{
  "nbformat": 4,
  "nbformat_minor": 0,
  "metadata": {
    "colab": {
      "name": "Controller_main.ipynb",
      "provenance": [],
      "collapsed_sections": []
    },
    "kernelspec": {
      "name": "python3",
      "display_name": "Python 3"
    },
    "accelerator": "GPU"
  },
  "cells": [
    {
      "cell_type": "code",
      "metadata": {
        "id": "FHyjKNC2aiol",
        "colab_type": "code",
        "outputId": "b930f63d-ea62-4b6b-bd9e-341a403422b9",
        "colab": {
          "base_uri": "https://localhost:8080/",
          "height": 129
        }
      },
      "source": [
        "import os\n",
        "from IPython.display import clear_output\n",
        "from google.colab import output\n",
        "from google.colab import drive\n",
        "drive.mount('/content/drive')"
      ],
      "execution_count": 1,
      "outputs": [
        {
          "output_type": "stream",
          "text": [
            "Go to this URL in a browser: https://accounts.google.com/o/oauth2/auth?client_id=947318989803-6bn6qk8qdgf4n4g3pfee6491hc0brc4i.apps.googleusercontent.com&redirect_uri=urn%3aietf%3awg%3aoauth%3a2.0%3aoob&response_type=code&scope=email%20https%3a%2f%2fwww.googleapis.com%2fauth%2fdocs.test%20https%3a%2f%2fwww.googleapis.com%2fauth%2fdrive%20https%3a%2f%2fwww.googleapis.com%2fauth%2fdrive.photos.readonly%20https%3a%2f%2fwww.googleapis.com%2fauth%2fpeopleapi.readonly\n",
            "\n",
            "Enter your authorization code:\n",
            "··········\n",
            "Mounted at /content/drive\n"
          ],
          "name": "stdout"
        }
      ]
    },
    {
      "cell_type": "code",
      "metadata": {
        "id": "BOpt6w2pxHef",
        "colab_type": "code",
        "outputId": "c3076e46-bae3-4a19-b510-3597548b0de6",
        "colab": {
          "base_uri": "https://localhost:8080/",
          "height": 329
        }
      },
      "source": [
        "#Check video module \n",
        "#USE ONLY Tesla P100-PCIE\n",
        "!nvidia-smi"
      ],
      "execution_count": 2,
      "outputs": [
        {
          "output_type": "stream",
          "text": [
            "Sun May 24 19:38:45 2020       \n",
            "+-----------------------------------------------------------------------------+\n",
            "| NVIDIA-SMI 440.82       Driver Version: 418.67       CUDA Version: 10.1     |\n",
            "|-------------------------------+----------------------+----------------------+\n",
            "| GPU  Name        Persistence-M| Bus-Id        Disp.A | Volatile Uncorr. ECC |\n",
            "| Fan  Temp  Perf  Pwr:Usage/Cap|         Memory-Usage | GPU-Util  Compute M. |\n",
            "|===============================+======================+======================|\n",
            "|   0  Tesla P4            Off  | 00000000:00:04.0 Off |                    0 |\n",
            "| N/A   42C    P8     7W /  75W |      0MiB /  7611MiB |      0%      Default |\n",
            "+-------------------------------+----------------------+----------------------+\n",
            "                                                                               \n",
            "+-----------------------------------------------------------------------------+\n",
            "| Processes:                                                       GPU Memory |\n",
            "|  GPU       PID   Type   Process name                             Usage      |\n",
            "|=============================================================================|\n",
            "|  No running processes found                                                 |\n",
            "+-----------------------------------------------------------------------------+\n"
          ],
          "name": "stdout"
        }
      ]
    },
    {
      "cell_type": "code",
      "metadata": {
        "id": "GSQED4wxf-Z1",
        "colab_type": "code",
        "outputId": "0a99fecb-b5fb-46a9-ee60-c330d021dfa0",
        "colab": {
          "base_uri": "https://localhost:8080/",
          "height": 35
        }
      },
      "source": [
        "os.chdir('/content/drive/My Drive')\n",
        "project_folder = 'BACR_Project'\n",
        "Controller_folder = 'Controller'\n",
        "if not os.path.exists(os.path.join(project_folder, Controller_folder)):\n",
        "  os.mkdir(project_folder)\n",
        "os.chdir(project_folder)\n",
        "if not os.path.exists(Controller_folder):\n",
        "  os.mkdir(Controller_folder)  \n",
        "os.chdir(Controller_folder)\n",
        "!pwd  "
      ],
      "execution_count": 3,
      "outputs": [
        {
          "output_type": "stream",
          "text": [
            "/content/drive/My Drive/BACR_Project/Controller\n"
          ],
          "name": "stdout"
        }
      ]
    },
    {
      "cell_type": "markdown",
      "metadata": {
        "id": "-6dI3lRQDhIE",
        "colab_type": "text"
      },
      "source": [
        "# Install dependencies"
      ]
    },
    {
      "cell_type": "code",
      "metadata": {
        "id": "DZnEZeCZdUuT",
        "colab_type": "code",
        "colab": {}
      },
      "source": [
        "!apt-get update && apt-get upgrade -y\n",
        "!apt-get install -y software-properties-common\n",
        "!apt-get update && apt-get install -y freeglut3-dev git\n",
        "!apt-get update --fix-missing && apt-get install -y \\\n",
        "      python3-numpy python3-matplotlib python3-dev \\\n",
        "      python3-opengl python3-pip \\\n",
        "      cmake zlib1g-dev libjpeg-dev xvfb libpq-dev \\\n",
        "      xorg-dev libboost-all-dev libsdl2-dev swig \\\n",
        "      git wget openjdk-8-jdk ffmpeg unzip\\\n",
        "    && apt-get clean && rm -rf /var/cache/apt/archives/* /var/lib/apt/lists/*\n",
        "!pip3 install --upgrade pip\n",
        "!pip3 install h5py future pyvirtualdisplay 'gym[atari]' 'gym[box2d]' 'gym[classic_control]' opencv-python\n",
        "!pip3 install torch torchvision tensorflow-gpu==1.8 pandas filelock\n",
        "!pip3 install pybullet==2.5.0\n",
        "!sed -i 's/robot_bases/pybullet_envs.robot_bases/' /usr/local/lib/python3.5/dist-packages/pybullet_envs/robot_locomotors.py\n",
        "!apt-get update && apt-get install libgsl0-dev -y\n",
        "!pip3 install pyglet Cython\n",
        "!git clone https://github.com/snolfi/evorobotpy.git\n",
        "!cd evorobotpy/lib/ \\\n",
        "    && python3 setupevonet.py build_ext --inplace \\\n",
        "    && cp net*.so ../bin\n",
        "!cd evorobotpy/lib/ \\\n",
        "    && python3 setupErDiscrim.py build_ext --inplace \\\n",
        "    && cp ErDiscrim*.so ../bin\n",
        "!сd evorobotpy/lib/ \\\n",
        "    && python3 setupErPredprey.py build_ext --inplace \\\n",
        "    && cp ErPredprey*.so ../bin   \n",
        "!cd evorobotpy/lib/ \\\n",
        "    && python3 setupErDpole.py build_ext --inplace \\\n",
        "    && cp ErDpole*.so ../bin\n",
        "!pip3 install notebook\n",
        "!git clone --depth 1 https://github.com/openai/baselines.git \\\n",
        "    && sed --in-place 's/mujoco,//' baselines/setup.py \\\n",
        "    && cd baselines && pip3 install -e . \\\n",
        "    && pip3 install mpi4py cloudpickle             \n",
        "output.clear()"
      ],
      "execution_count": 0,
      "outputs": []
    },
    {
      "cell_type": "markdown",
      "metadata": {
        "id": "E39sNh7nDkM2",
        "colab_type": "text"
      },
      "source": [
        "\n",
        "\n",
        "# Clone our repository "
      ]
    },
    {
      "cell_type": "code",
      "metadata": {
        "id": "eIwz_ovJjesw",
        "colab_type": "code",
        "outputId": "1d12a394-c1ed-4ffa-b994-0fb4a2623981",
        "colab": {
          "base_uri": "https://localhost:8080/",
          "height": 219
        }
      },
      "source": [
        "os.chdir('/content/drive/My Drive/BACR_Project/Controller')\n",
        "!git clone https://github.com/Terminateit/BACR_MIT_CAR\n",
        "% cd BACR_MIT_CAR/\n",
        "!git checkout controller"
      ],
      "execution_count": 5,
      "outputs": [
        {
          "output_type": "stream",
          "text": [
            "Cloning into 'BACR_MIT_CAR'...\n",
            "remote: Enumerating objects: 3814, done.\u001b[K\n",
            "remote: Counting objects: 100% (3814/3814), done.\u001b[K\n",
            "remote: Compressing objects: 100% (425/425), done.\u001b[K\n",
            "remote: Total 3814 (delta 3488), reused 3698 (delta 3382), pack-reused 0\u001b[K\n",
            "Receiving objects: 100% (3814/3814), 46.26 MiB | 11.21 MiB/s, done.\n",
            "Resolving deltas: 100% (3488/3488), done.\n",
            "Checking out files: 100% (151/151), done.\n",
            "/content/drive/My Drive/BACR_Project/Controller/BACR_MIT_CAR\n",
            "Branch 'controller_dev' set up to track remote branch 'controller_dev' from 'origin'.\n",
            "Switched to a new branch 'controller_dev'\n"
          ],
          "name": "stdout"
        }
      ]
    },
    {
      "cell_type": "markdown",
      "metadata": {
        "id": "UEl7I8Va-Ym0",
        "colab_type": "text"
      },
      "source": [
        "# Substitute files"
      ]
    },
    {
      "cell_type": "code",
      "metadata": {
        "id": "3OGlMEtA-d0w",
        "colab_type": "code",
        "outputId": "a5a16b95-bac2-4f7d-9aee-dc825aca441c",
        "colab": {
          "base_uri": "https://localhost:8080/",
          "height": 35
        }
      },
      "source": [
        "% cd controller \n",
        "!cp controller.py ../../evorobotpy/bin/\n",
        "!cp es.py ../../evorobotpy/bin/\n",
        "!cp es_car.py ../../evorobotpy/bin/\n",
        "!cp policy_car.py ../../evorobotpy/bin/\n",
        "!cp mdrnn.py ../../evorobotpy/bin/\n",
        "!cp vae.py ../../evorobotpy/bin/\n",
        "\n",
        "#folder \n",
        "! cp -r models_dir ../../evorobotpy/bin/\n",
        "\n",
        "#ini file\n",
        "!cp racecar_env2.ini ../racecar/"
      ],
      "execution_count": 6,
      "outputs": [
        {
          "output_type": "stream",
          "text": [
            "/content/drive/My Drive/BACR_Project/Controller/BACR_MIT_CAR/controller\n"
          ],
          "name": "stdout"
        }
      ]
    },
    {
      "cell_type": "markdown",
      "metadata": {
        "id": "m6OIF8LkDoD8",
        "colab_type": "text"
      },
      "source": [
        "# Build the env"
      ]
    },
    {
      "cell_type": "code",
      "metadata": {
        "id": "GLhATFKHpJP9",
        "colab_type": "code",
        "outputId": "893ea550-6c68-4921-9387-a41d31fe8f03",
        "colab": {
          "base_uri": "https://localhost:8080/",
          "height": 440
        }
      },
      "source": [
        "% cd /content/drive/My Drive/BACR_Project/Controller/BACR_MIT_CAR/racecar\n",
        "! pip3 install -e. "
      ],
      "execution_count": 7,
      "outputs": [
        {
          "output_type": "stream",
          "text": [
            "/content/drive/My Drive/BACR_Project/Controller/BACR_MIT_CAR/racecar\n",
            "Obtaining file:///content/drive/My%20Drive/BACR_Project/Controller/BACR_MIT_CAR/racecar\n",
            "Requirement already satisfied: gym in /usr/local/lib/python3.6/dist-packages (from racecar==0.0.1) (0.15.7)\n",
            "Requirement already satisfied: pybullet in /usr/local/lib/python3.6/dist-packages (from racecar==0.0.1) (2.5.0)\n",
            "Collecting cloudpickle~=1.2.0\n",
            "  Downloading cloudpickle-1.2.2-py2.py3-none-any.whl (25 kB)\n",
            "Requirement already satisfied: numpy>=1.10.4 in /usr/local/lib/python3.6/dist-packages (from gym->racecar==0.0.1) (1.18.4)\n",
            "Requirement already satisfied: scipy in /usr/local/lib/python3.6/dist-packages (from gym->racecar==0.0.1) (1.4.1)\n",
            "Requirement already satisfied: six in /usr/local/lib/python3.6/dist-packages (from gym->racecar==0.0.1) (1.12.0)\n",
            "Requirement already satisfied: pyglet<=1.5.0,>=1.4.0 in /usr/local/lib/python3.6/dist-packages (from gym->racecar==0.0.1) (1.5.0)\n",
            "Requirement already satisfied: future in /usr/local/lib/python3.6/dist-packages (from pyglet<=1.5.0,>=1.4.0->gym->racecar==0.0.1) (0.16.0)\n",
            "Installing collected packages: racecar, cloudpickle\n",
            "  Running setup.py develop for racecar\n",
            "  Attempting uninstall: cloudpickle\n",
            "    Found existing installation: cloudpickle 1.3.0\n",
            "    Uninstalling cloudpickle-1.3.0:\n",
            "      Successfully uninstalled cloudpickle-1.3.0\n",
            "Successfully installed cloudpickle-1.2.2 racecar\n"
          ],
          "name": "stdout"
        },
        {
          "output_type": "display_data",
          "data": {
            "application/vnd.colab-display-data+json": {
              "pip_warning": {
                "packages": [
                  "cloudpickle"
                ]
              }
            }
          },
          "metadata": {
            "tags": []
          }
        }
      ]
    },
    {
      "cell_type": "markdown",
      "metadata": {
        "id": "LNP3cH9M_oyJ",
        "colab_type": "text"
      },
      "source": [
        "# Build NET"
      ]
    },
    {
      "cell_type": "code",
      "metadata": {
        "id": "nxObCeYA_oGR",
        "colab_type": "code",
        "outputId": "eb62d172-2864-4ee3-c1a9-fc01288498d7",
        "colab": {
          "base_uri": "https://localhost:8080/",
          "height": 72
        }
      },
      "source": [
        "% cd /content/drive/My Drive/BACR_Project/Controller/evorobotpy/lib\n",
        "! python3 setupevonet.py build_ext --inplace\n",
        "!cp net*.so ../bin # or cp net*.dll ../bin"
      ],
      "execution_count": 8,
      "outputs": [
        {
          "output_type": "stream",
          "text": [
            "/content/drive/My Drive/BACR_Project/Controller/evorobotpy/lib\n",
            "running build_ext\n",
            "skipping 'net.cpp' Cython extension (up-to-date)\n"
          ],
          "name": "stdout"
        }
      ]
    },
    {
      "cell_type": "markdown",
      "metadata": {
        "id": "zn5_cmlyERFj",
        "colab_type": "text"
      },
      "source": [
        "# Launch es_car.py"
      ]
    },
    {
      "cell_type": "code",
      "metadata": {
        "id": "6OUuQLXHHry2",
        "colab_type": "code",
        "colab": {
          "base_uri": "https://localhost:8080/",
          "height": 233
        },
        "outputId": "f3e33c44-1df6-4225-b049-82923c7614d2"
      },
      "source": [
        "% cd /content/drive/My Drive/BACR_Project/Controller/BACR_MIT_CAR/racecar\n",
        "! python3 ../../evorobotpy/bin/es_car.py -f racecar_env2.ini -s 15"
      ],
      "execution_count": 0,
      "outputs": [
        {
          "output_type": "stream",
          "text": [
            "/content/drive/My Drive/BACR_Project/Controller/BACR_MIT_CAR/racecar\n",
            "Environment racecar-v2 nreplications 1 maxmsteps 50m \n",
            "pybullet build time: May 24 2020 19:42:24\n",
            "/usr/local/lib/python3.6/dist-packages/gym/logger.py:30: UserWarning: \u001b[33mWARN: Box bound precision lowered by casting to float64\u001b[0m\n",
            "  warnings.warn(colorize('%s: %s'%('WARN', msg % args), 'yellow'))\n",
            "Car Gym policy\n",
            "Evaluation: Episodes 1 Test Episodes 1 MaxSteps 100000\n",
            "Network 288->100->3 recurrent with bias tanh output:linear init:xavier input-normalization output-diagonal-gaussian \n",
            "Run Evolve: Environment racecar-v2 Seed 15 Nreplications 1\n",
            "Salimans: seed 15 maxmsteps 50 batchSize 10 stepsize 0.010000 noiseStdDev 0.020000 wdecay 0 sameEnvCond 0 nparams 39215\n"
          ],
          "name": "stdout"
        }
      ]
    },
    {
      "cell_type": "code",
      "metadata": {
        "id": "ydCbKcmwO08E",
        "colab_type": "code",
        "colab": {}
      },
      "source": [
        ""
      ],
      "execution_count": 0,
      "outputs": []
    }
  ]
}
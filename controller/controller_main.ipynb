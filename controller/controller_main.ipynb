{
  "nbformat": 4,
  "nbformat_minor": 0,
  "metadata": {
    "colab": {
      "name": "Controller_main.ipynb",
      "provenance": [],
      "collapsed_sections": []
    },
    "kernelspec": {
      "name": "python3",
      "display_name": "Python 3"
    },
    "accelerator": "GPU"
  },
  "cells": [
    {
      "cell_type": "code",
      "metadata": {
        "id": "FHyjKNC2aiol",
        "colab_type": "code",
        "outputId": "1ffcc200-674e-4a86-bea3-41b7fb732e38",
        "colab": {
          "base_uri": "https://localhost:8080/",
          "height": 130
        }
      },
      "source": [
        "import os\n",
        "from IPython.display import clear_output\n",
        "from google.colab import output\n",
        "from google.colab import drive\n",
        "drive.mount('/content/drive')"
      ],
      "execution_count": 0,
      "outputs": [
        {
          "output_type": "stream",
          "text": [
            "Go to this URL in a browser: https://accounts.google.com/o/oauth2/auth?client_id=947318989803-6bn6qk8qdgf4n4g3pfee6491hc0brc4i.apps.googleusercontent.com&redirect_uri=urn%3aietf%3awg%3aoauth%3a2.0%3aoob&response_type=code&scope=email%20https%3a%2f%2fwww.googleapis.com%2fauth%2fdocs.test%20https%3a%2f%2fwww.googleapis.com%2fauth%2fdrive%20https%3a%2f%2fwww.googleapis.com%2fauth%2fdrive.photos.readonly%20https%3a%2f%2fwww.googleapis.com%2fauth%2fpeopleapi.readonly\n",
            "\n",
            "Enter your authorization code:\n",
            "··········\n",
            "Mounted at /content/drive\n"
          ],
          "name": "stdout"
        }
      ]
    },
    {
      "cell_type": "code",
      "metadata": {
        "id": "BOpt6w2pxHef",
        "colab_type": "code",
        "outputId": "bbd271b2-e857-410a-b479-67076fe2373e",
        "colab": {
          "base_uri": "https://localhost:8080/",
          "height": 334
        }
      },
      "source": [
        "#Check video module \n",
        "#USE ONLY Tesla P100-PCIE\n",
        "!nvidia-smi"
      ],
      "execution_count": 0,
      "outputs": [
        {
          "output_type": "stream",
          "text": [
            "Sun May 24 08:21:04 2020       \n",
            "+-----------------------------------------------------------------------------+\n",
            "| NVIDIA-SMI 440.82       Driver Version: 418.67       CUDA Version: 10.1     |\n",
            "|-------------------------------+----------------------+----------------------+\n",
            "| GPU  Name        Persistence-M| Bus-Id        Disp.A | Volatile Uncorr. ECC |\n",
            "| Fan  Temp  Perf  Pwr:Usage/Cap|         Memory-Usage | GPU-Util  Compute M. |\n",
            "|===============================+======================+======================|\n",
            "|   0  Tesla P100-PCIE...  Off  | 00000000:00:04.0 Off |                    0 |\n",
            "| N/A   39C    P0    27W / 250W |      0MiB / 16280MiB |      0%      Default |\n",
            "+-------------------------------+----------------------+----------------------+\n",
            "                                                                               \n",
            "+-----------------------------------------------------------------------------+\n",
            "| Processes:                                                       GPU Memory |\n",
            "|  GPU       PID   Type   Process name                             Usage      |\n",
            "|=============================================================================|\n",
            "|  No running processes found                                                 |\n",
            "+-----------------------------------------------------------------------------+\n"
          ],
          "name": "stdout"
        }
      ]
    },
    {
      "cell_type": "code",
      "metadata": {
        "id": "GSQED4wxf-Z1",
        "colab_type": "code",
        "outputId": "4430c7b5-e100-4b65-eaa6-adcb28490c31",
        "colab": {
          "base_uri": "https://localhost:8080/",
          "height": 36
        }
      },
      "source": [
        "os.chdir('/content/drive/My Drive')\n",
        "project_folder = 'BACR_Project'\n",
        "Controller_folder = 'Controller'\n",
        "if not os.path.exists(os.path.join(project_folder, Controller_folder)):\n",
        "  os.mkdir(project_folder)\n",
        "os.chdir(project_folder)\n",
        "if not os.path.exists(Controller_folder):\n",
        "  os.mkdir(Controller_folder)  \n",
        "os.chdir(Controller_folder)\n",
        "!pwd  "
      ],
      "execution_count": 0,
      "outputs": [
        {
          "output_type": "stream",
          "text": [
            "/content/drive/My Drive/BACR_Project/Controller\n"
          ],
          "name": "stdout"
        }
      ]
    },
    {
      "cell_type": "markdown",
      "metadata": {
        "id": "-6dI3lRQDhIE",
        "colab_type": "text"
      },
      "source": [
        "# Install dependencies"
      ]
    },
    {
      "cell_type": "code",
      "metadata": {
        "id": "DZnEZeCZdUuT",
        "colab_type": "code",
        "colab": {}
      },
      "source": [
        "!apt-get update && apt-get upgrade -y\n",
        "!apt-get install -y software-properties-common\n",
        "!apt-get update && apt-get install -y freeglut3-dev git\n",
        "!apt-get update --fix-missing && apt-get install -y \\\n",
        "      python3-numpy python3-matplotlib python3-dev \\\n",
        "      python3-opengl python3-pip \\\n",
        "      cmake zlib1g-dev libjpeg-dev xvfb libpq-dev \\\n",
        "      xorg-dev libboost-all-dev libsdl2-dev swig \\\n",
        "      git wget openjdk-8-jdk ffmpeg unzip\\\n",
        "    && apt-get clean && rm -rf /var/cache/apt/archives/* /var/lib/apt/lists/*\n",
        "!pip3 install --upgrade pip\n",
        "!pip3 install h5py future pyvirtualdisplay 'gym[atari]' 'gym[box2d]' 'gym[classic_control]' opencv-python\n",
        "!pip3 install torch torchvision tensorflow-gpu==1.8 pandas filelock\n",
        "!pip3 install pybullet==2.5.0\n",
        "!sed -i 's/robot_bases/pybullet_envs.robot_bases/' /usr/local/lib/python3.5/dist-packages/pybullet_envs/robot_locomotors.py\n",
        "!apt-get update && apt-get install libgsl0-dev -y\n",
        "!pip3 install pyglet Cython\n",
        "!git clone https://github.com/snolfi/evorobotpy.git\n",
        "!cd evorobotpy/lib/ \\\n",
        "    && python3 setupevonet.py build_ext --inplace \\\n",
        "    && cp net*.so ../bin\n",
        "!cd evorobotpy/lib/ \\\n",
        "    && python3 setupErDiscrim.py build_ext --inplace \\\n",
        "    && cp ErDiscrim*.so ../bin\n",
        "!сd evorobotpy/lib/ \\\n",
        "    && python3 setupErPredprey.py build_ext --inplace \\\n",
        "    && cp ErPredprey*.so ../bin   \n",
        "!cd evorobotpy/lib/ \\\n",
        "    && python3 setupErDpole.py build_ext --inplace \\\n",
        "    && cp ErDpole*.so ../bin\n",
        "!pip3 install notebook\n",
        "!git clone --depth 1 https://github.com/openai/baselines.git \\\n",
        "    && sed --in-place 's/mujoco,//' baselines/setup.py \\\n",
        "    && cd baselines && pip3 install -e . \\\n",
        "    && pip3 install mpi4py cloudpickle             \n",
        "output.clear()"
      ],
      "execution_count": 0,
      "outputs": []
    },
    {
      "cell_type": "markdown",
      "metadata": {
        "id": "E39sNh7nDkM2",
        "colab_type": "text"
      },
      "source": [
        "\n",
        "\n",
        "# Clone our repository "
      ]
    },
    {
      "cell_type": "code",
      "metadata": {
        "id": "eIwz_ovJjesw",
        "colab_type": "code",
        "outputId": "4caf2090-4084-45ef-d1bf-4f278ce909e2",
        "colab": {
          "base_uri": "https://localhost:8080/",
          "height": 185
        }
      },
      "source": [
        "os.chdir('/content/drive/My Drive/BACR_Project/Controller')\n",
        "!git clone https://github.com/Terminateit/BACR_MIT_CAR\n",
        "% cd BACR_MIT_CAR/\n",
        "!git checkout controller"
      ],
      "execution_count": 0,
      "outputs": [
        {
          "output_type": "stream",
          "text": [
            "fatal: destination path 'BACR_MIT_CAR' already exists and is not an empty directory.\n",
            "/content/drive/My Drive/BACR_Project/Controller/BACR_MIT_CAR\n",
            "M\tracecar/racecar.egg-info/SOURCES.txt\n",
            "M\tracecar/racecar_v1/__pycache__/__init__.cpython-36.pyc\n",
            "M\tracecar/racecar_v2/__pycache__/__init__.cpython-36.pyc\n",
            "M\tracecar/racecar_v2/envs/__pycache__/__init__.cpython-36.pyc\n",
            "M\tracecar/racecar_v2/envs/__pycache__/racecar_v2_env.cpython-36.pyc\n",
            "Already on 'controller'\n",
            "Your branch is up to date with 'origin/controller'.\n"
          ],
          "name": "stdout"
        }
      ]
    },
    {
      "cell_type": "markdown",
      "metadata": {
        "id": "UEl7I8Va-Ym0",
        "colab_type": "text"
      },
      "source": [
        "# Substitute files"
      ]
    },
    {
      "cell_type": "code",
      "metadata": {
        "id": "3OGlMEtA-d0w",
        "colab_type": "code",
        "outputId": "e26a364b-e22b-46ba-d80d-d65555f57094",
        "colab": {
          "base_uri": "https://localhost:8080/",
          "height": 36
        }
      },
      "source": [
        "% cd controller \n",
        "!cp controller.py ../../evorobotpy/bin/\n",
        "!cp es.py ../../evorobotpy/bin/\n",
        "!cp es_car.py ../../evorobotpy/bin/\n",
        "!cp policy_car.py ../../evorobotpy/bin/\n",
        "!cp mdrnn.py ../../evorobotpy/bin/\n",
        "!cp vae.py ../../evorobotpy/bin/\n",
        "\n",
        "#folder \n",
        "! cp -r models_dir ../../evorobotpy/bin/\n",
        "\n",
        "#ini file\n",
        "!cp racecar_env2.ini ../racecar/"
      ],
      "execution_count": 0,
      "outputs": [
        {
          "output_type": "stream",
          "text": [
            "/content/drive/My Drive/BACR_Project/Controller/BACR_MIT_CAR/controller\n"
          ],
          "name": "stdout"
        }
      ]
    },
    {
      "cell_type": "markdown",
      "metadata": {
        "id": "m6OIF8LkDoD8",
        "colab_type": "text"
      },
      "source": [
        "# Build the env"
      ]
    },
    {
      "cell_type": "code",
      "metadata": {
        "id": "GLhATFKHpJP9",
        "colab_type": "code",
        "outputId": "bbfbc705-dbb9-454c-81ef-67c960719037",
        "colab": {
          "base_uri": "https://localhost:8080/",
          "height": 241
        }
      },
      "source": [
        "% cd /content/drive/My Drive/BACR_Project/Controller/BACR_MIT_CAR/racecar\n",
        "! pip3 install -e. "
      ],
      "execution_count": 0,
      "outputs": [
        {
          "output_type": "stream",
          "text": [
            "/content/drive/My Drive/BACR_Project/Controller/BACR_MIT_CAR/racecar\n",
            "Obtaining file:///content/drive/My%20Drive/BACR_Project/Controller/BACR_MIT_CAR/racecar\n",
            "Requirement already satisfied: gym in /usr/local/lib/python3.6/dist-packages (from racecar==0.0.1) (0.17.2)\n",
            "Requirement already satisfied: pybullet in /usr/local/lib/python3.6/dist-packages (from racecar==0.0.1) (2.5.0)\n",
            "Requirement already satisfied: scipy in /usr/local/lib/python3.6/dist-packages (from gym->racecar==0.0.1) (1.4.1)\n",
            "Requirement already satisfied: pyglet<=1.5.0,>=1.4.0 in /usr/local/lib/python3.6/dist-packages (from gym->racecar==0.0.1) (1.5.0)\n",
            "Requirement already satisfied: cloudpickle<1.4.0,>=1.2.0 in /usr/local/lib/python3.6/dist-packages (from gym->racecar==0.0.1) (1.3.0)\n",
            "Requirement already satisfied: numpy>=1.10.4 in /usr/local/lib/python3.6/dist-packages (from gym->racecar==0.0.1) (1.18.4)\n",
            "Requirement already satisfied: future in /usr/local/lib/python3.6/dist-packages (from pyglet<=1.5.0,>=1.4.0->gym->racecar==0.0.1) (0.16.0)\n",
            "Installing collected packages: racecar\n",
            "  Running setup.py develop for racecar\n",
            "Successfully installed racecar\n"
          ],
          "name": "stdout"
        }
      ]
    },
    {
      "cell_type": "markdown",
      "metadata": {
        "id": "LNP3cH9M_oyJ",
        "colab_type": "text"
      },
      "source": [
        "# Build NET"
      ]
    },
    {
      "cell_type": "code",
      "metadata": {
        "id": "nxObCeYA_oGR",
        "colab_type": "code",
        "outputId": "cef1b93f-3280-4147-d063-87c622afec3b",
        "colab": {
          "base_uri": "https://localhost:8080/",
          "height": 73
        }
      },
      "source": [
        "% cd /content/drive/My Drive/BACR_Project/Controller/evorobotpy/lib\n",
        "! python3 setupevonet.py build_ext --inplace\n",
        "!cp net*.so ../bin # or cp net*.dll ../bin"
      ],
      "execution_count": 0,
      "outputs": [
        {
          "output_type": "stream",
          "text": [
            "/content/drive/My Drive/BACR_Project/Controller/evorobotpy/lib\n",
            "running build_ext\n",
            "skipping 'net.cpp' Cython extension (up-to-date)\n"
          ],
          "name": "stdout"
        }
      ]
    },
    {
      "cell_type": "code",
      "metadata": {
        "id": "8F7mLyoov74t",
        "colab_type": "code",
        "outputId": "d1eccded-9edd-4259-dc8e-d55fc96aed44",
        "colab": {
          "base_uri": "https://localhost:8080/",
          "height": 334
        }
      },
      "source": [
        "#Check video module \n",
        "#USE ONLY Tesla P100-PCIE\n",
        "!nvidia-smi"
      ],
      "execution_count": 0,
      "outputs": [
        {
          "output_type": "stream",
          "text": [
            "Sun May 24 08:14:59 2020       \n",
            "+-----------------------------------------------------------------------------+\n",
            "| NVIDIA-SMI 440.82       Driver Version: 418.67       CUDA Version: 10.1     |\n",
            "|-------------------------------+----------------------+----------------------+\n",
            "| GPU  Name        Persistence-M| Bus-Id        Disp.A | Volatile Uncorr. ECC |\n",
            "| Fan  Temp  Perf  Pwr:Usage/Cap|         Memory-Usage | GPU-Util  Compute M. |\n",
            "|===============================+======================+======================|\n",
            "|   0  Tesla T4            Off  | 00000000:00:04.0 Off |                    0 |\n",
            "| N/A   38C    P8     9W /  70W |      0MiB / 15079MiB |      0%      Default |\n",
            "+-------------------------------+----------------------+----------------------+\n",
            "                                                                               \n",
            "+-----------------------------------------------------------------------------+\n",
            "| Processes:                                                       GPU Memory |\n",
            "|  GPU       PID   Type   Process name                             Usage      |\n",
            "|=============================================================================|\n",
            "|  No running processes found                                                 |\n",
            "+-----------------------------------------------------------------------------+\n"
          ],
          "name": "stdout"
        }
      ]
    },
    {
      "cell_type": "markdown",
      "metadata": {
        "id": "zn5_cmlyERFj",
        "colab_type": "text"
      },
      "source": [
        "# Launch es_car.py"
      ]
    },
    {
      "cell_type": "code",
      "metadata": {
        "id": "IxDG37TobSLd",
        "colab_type": "code",
        "outputId": "7ab5a043-f3d8-4c3b-ea34-dadb0ba34bcf",
        "colab": {
          "base_uri": "https://localhost:8080/",
          "height": 591
        }
      },
      "source": [
        "% cd /content/drive/My Drive/BACR_Project/Controller/BACR_MIT_CAR/racecar\n",
        "! python3 ../../evorobotpy/bin/es_car.py -f racecar_env2recur.ini -s 15"
      ],
      "execution_count": 0,
      "outputs": [
        {
          "output_type": "stream",
          "text": [
            "/content/drive/My Drive/BACR_Project/Controller/BACR_MIT_CAR/racecar\n",
            "Environment racecar-v2 nreplications 1 maxmsteps 50m \n",
            "pybullet build time: May 24 2020 08:24:23\n",
            "/usr/local/lib/python3.6/dist-packages/gym/logger.py:30: UserWarning: \u001b[33mWARN: Box bound precision lowered by casting to float64\u001b[0m\n",
            "  warnings.warn(colorize('%s: %s'%('WARN', msg % args), 'yellow'))\n",
            "Car Gym policy\n",
            "Evaluation: Episodes 1 Test Episodes 1 MaxSteps 100000\n",
            "Network 288->100->3 recurrent with bias tanh output:linear init:xavier input-normalization output-diagonal-gaussian \n",
            "Run Evolve: Environment racecar-v2 Seed 15 Nreplications 1\n",
            "Salimans: seed 15 maxmsteps 50 batchSize 10 stepsize 0.010000 noiseStdDev 0.020000 wdecay 0 sameEnvCond 0 nparams 39215\n",
            "Seed 15 (0.0%) gen 1 msteps 0 bestfit 1.45 bestgfit 0.78 centroid 0.27 bestsam 1.45 avg 0.38 weightsize 0.05\n",
            "Seed 15 (0.1%) gen 2 msteps 0 bestfit 34.87 bestgfit 5.64 centroid 16.82 bestsam 34.87 avg 6.03 weightsize 0.05\n",
            "save data\n",
            "Seed 15 (0.1%) gen 3 msteps 0 bestfit 34.87 bestgfit 6.85 centroid 5.65 bestsam 28.08 avg 8.68 weightsize 0.05\n",
            "save data\n",
            "Seed 15 (0.2%) gen 4 msteps 0 bestfit 34.87 bestgfit 27.21 centroid 16.18 bestsam 26.24 avg 7.28 weightsize 0.05\n",
            "save data\n",
            "Seed 15 (0.2%) gen 5 msteps 0 bestfit 35.13 bestgfit 27.21 centroid 6.54 bestsam 35.13 avg 12.14 weightsize 0.06\n",
            "save data\n",
            "Seed 15 (0.3%) gen 6 msteps 0 bestfit 35.13 bestgfit 27.21 centroid 3.50 bestsam 17.53 avg 8.20 weightsize 0.06\n",
            "save data\n",
            "Seed 15 (0.3%) gen 7 msteps 0 bestfit 35.13 bestgfit 33.14 centroid 15.25 bestsam 26.44 avg 10.23 weightsize 0.06\n",
            "save data\n",
            "Seed 15 (0.4%) gen 8 msteps 0 bestfit 60.14 bestgfit 33.14 centroid 18.69 bestsam 60.14 avg 15.46 weightsize 0.06\n",
            "save data\n",
            "Seed 15 (0.5%) gen 9 msteps 0 bestfit 92.90 bestgfit 51.50 centroid 15.07 bestsam 92.90 avg 19.41 weightsize 0.06\n",
            "save data\n",
            "Seed 15 (0.6%) gen 10 msteps 0 bestfit 92.90 bestgfit 51.50 centroid 19.12 bestsam 41.55 avg 16.39 weightsize 0.06\n",
            "save data\n"
          ],
          "name": "stdout"
        }
      ]
    },
    {
      "cell_type": "code",
      "metadata": {
        "id": "6OUuQLXHHry2",
        "colab_type": "code",
        "colab": {}
      },
      "source": [
        ""
      ],
      "execution_count": 0,
      "outputs": []
    }
  ]
}